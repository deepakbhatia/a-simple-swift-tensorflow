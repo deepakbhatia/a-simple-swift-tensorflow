{
  "nbformat": 4,
  "nbformat_minor": 0,
  "metadata": {
    "colab": {
      "name": "blank_swift.ipynb",
      "provenance": [],
      "collapsed_sections": []
    },
    "kernelspec": {
      "name": "swift",
      "display_name": "Swift"
    }
  },
  "cells": [
    {
      "cell_type": "code",
      "metadata": {
        "id": "kZRlD4utdPuX",
        "colab_type": "code",
        "colab": {}
      },
      "source": [
        "import Foundation\n",
        "import TensorFlow\n",
        "import numsw"
      ],
      "execution_count": 10,
      "outputs": []
    },
    {
      "cell_type": "code",
      "metadata": {
        "id": "q0RiR7M9VlCW",
        "colab_type": "code",
        "colab": {}
      },
      "source": [
        "struct XORModel: Layer {\n",
        "  var inputLayer =  Dense<Float>(inputSize: 2, outputSize: 2, activation: sigmoid)\n",
        "  var hiddenLayer = Dense<Float>(inputSize: 2, outputSize: 2, activation: sigmoid)\n",
        "  var outputLayer = Dense<Float>(inputSize: 2, outputSize: 1, activation: sigmoid)\n",
        "\n",
        "  @differentiable\n",
        "  func callAsFunction(_ input: Tensor<Float>) -> Tensor<Float> {\n",
        "    return input.sequenced(through: inputLayer, hiddenLayer, outputLayer)\n",
        "  }\n",
        "}"
      ],
      "execution_count": 22,
      "outputs": []
    },
    {
      "cell_type": "code",
      "metadata": {
        "id": "LqBv8WGsXl15",
        "colab_type": "code",
        "colab": {}
      },
      "source": [
        "var model = XORModel()"
      ],
      "execution_count": 23,
      "outputs": []
    },
    {
      "cell_type": "code",
      "metadata": {
        "id": "xv5ZsWXNXrUC",
        "colab_type": "code",
        "colab": {}
      },
      "source": [
        "let optimizer = AdaGrad(for: model, learningRate: 0.02)"
      ],
      "execution_count": 34,
      "outputs": []
    },
    {
      "cell_type": "code",
      "metadata": {
        "id": "aes7HUYoYUrK",
        "colab_type": "code",
        "colab": {}
      },
      "source": [
        "let trainingData: Tensor<Float> = [[0,0],[0,1],[1,0],[1,1]]"
      ],
      "execution_count": 35,
      "outputs": []
    },
    {
      "cell_type": "code",
      "metadata": {
        "id": "Kt1Qj3ZxYnPu",
        "colab_type": "code",
        "colab": {}
      },
      "source": [
        "let trainingLabels: Tensor<Float> = [[0], [1], [1], [0]]"
      ],
      "execution_count": 36,
      "outputs": []
    },
    {
      "cell_type": "code",
      "metadata": {
        "id": "x9Na8gv4ZCJo",
        "colab_type": "code",
        "colab": {}
      },
      "source": [
        "let epochs = 100_000"
      ],
      "execution_count": 37,
      "outputs": []
    },
    {
      "cell_type": "code",
      "metadata": {
        "id": "50Bq_6ELZLpp",
        "colab_type": "code",
        "colab": {}
      },
      "source": [
        "for epoch in 0..<epochs {\n",
        "  let (loss, grad) =  valueWithGradient(at: model) { model -> Tensor<Float> in\n",
        "    let prediction = model(trainingData)\n",
        "    return meanSquaredError(predicted: prediction, expected: trainingLabels)\n",
        "  }\n",
        "\n",
        "\n",
        "  optimizer.update(&model, along: grad)\n",
        "}"
      ],
      "execution_count": 38,
      "outputs": []
    }
  ]
}